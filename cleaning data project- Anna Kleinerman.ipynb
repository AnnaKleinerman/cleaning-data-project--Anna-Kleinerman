{
 "cells": [
  {
   "cell_type": "markdown",
   "id": "99807649",
   "metadata": {},
   "source": [
    "## Data dictionary:"
   ]
  },
  {
   "cell_type": "markdown",
   "id": "28ea91ef",
   "metadata": {},
   "source": [
    "### instacart_orders.csv:\n",
    "each row corresponds to one order on the Instacart app\n",
    "\n",
    "<font color='green'>order_id</font>: ID number that uniquely identifies each order\n",
    "\n",
    "<font color='green'>user_id</font>: ID number that uniquely identifies each customer account\n",
    "\n",
    "<font color='green'>order_number</font>: the number of times this customer has placed an order\n",
    "\n",
    "<font color='green'>order_dow</font>: day of the week that the order placed (which day is 0 is uncertain)\n",
    "\n",
    "<font color='green'>order_hour_of_day</font>: hour of the day that the order was placed\n",
    "\n",
    "<font color='green'>days_since_prior_order</font>: number of days since this customer placed their previous order\n"
   ]
  },
  {
   "cell_type": "markdown",
   "id": "7f72416a",
   "metadata": {},
   "source": [
    "### products.csv: \n",
    "each row corresponds to a unique product that customers can buy\n",
    "\n",
    "<font color='green'>product_id</font>: ID number that uniquely identifies each product\n",
    "\n",
    "<font color='green'>product_name</font>: name of the product\n",
    "\n",
    "<font color='green'>aisle_id</font>: ID number that uniquely identifies each grocery aisle category\n",
    "\n",
    "<font color='green'>department_id</font>: ID number that uniquely identifies each grocery department category"
   ]
  },
  {
   "cell_type": "markdown",
   "id": "534ff023",
   "metadata": {},
   "source": [
    "### order_products.csv:\n",
    "each row corresponds to one item placed in an order\n",
    "\n",
    "<font color='green'>order_id</font>: ID number that uniquely identifies each order\n",
    "    \n",
    "<font color='green'>product_id</font>: ID number that uniquely identifies each product\n",
    "    \n",
    "<font color='green'>add_to_cart_order</font>: the sequential order in which each item was placed in the cart\n",
    "    \n",
    "<font color='green'>reordered</font>: 0 if the customer has never ordered this product before, 1 if they have"
   ]
  },
  {
   "cell_type": "markdown",
   "id": "3139cc6f",
   "metadata": {},
   "source": [
    "### aisles.csv:\n",
    "\n",
    "<font color='green'>aisle_id</font>: ID number that uniquely identifies each grocery aisle category\n",
    "\n",
    "<font color='green'>aisle</font>: name of the aisle\n",
    "    "
   ]
  },
  {
   "cell_type": "markdown",
   "id": "e9c491fc",
   "metadata": {},
   "source": [
    "### departments.csv:\n",
    "\n",
    "<font color='green'>department_id</font>: ID number that uniquely identifies each grocery department category\n",
    "\n",
    "<font color='green'>department</font>: name of the department"
   ]
  },
  {
   "cell_type": "markdown",
   "id": "ad22358d",
   "metadata": {},
   "source": [
    "# THE PROJECT"
   ]
  },
  {
   "cell_type": "markdown",
   "id": "cb962343",
   "metadata": {},
   "source": [
    "### STEP 1"
   ]
  },
  {
   "cell_type": "code",
   "execution_count": 1,
   "id": "bbebc77d",
   "metadata": {},
   "outputs": [
    {
     "data": {
      "text/html": [
       "<div>\n",
       "<style scoped>\n",
       "    .dataframe tbody tr th:only-of-type {\n",
       "        vertical-align: middle;\n",
       "    }\n",
       "\n",
       "    .dataframe tbody tr th {\n",
       "        vertical-align: top;\n",
       "    }\n",
       "\n",
       "    .dataframe thead th {\n",
       "        text-align: right;\n",
       "    }\n",
       "</style>\n",
       "<table border=\"1\" class=\"dataframe\">\n",
       "  <thead>\n",
       "    <tr style=\"text-align: right;\">\n",
       "      <th></th>\n",
       "      <th>order_id</th>\n",
       "      <th>user_id</th>\n",
       "      <th>order_number</th>\n",
       "      <th>order_dow</th>\n",
       "      <th>order_hour_of_day</th>\n",
       "      <th>days_since_prior_order</th>\n",
       "    </tr>\n",
       "  </thead>\n",
       "  <tbody>\n",
       "    <tr>\n",
       "      <th>0</th>\n",
       "      <td>1515936</td>\n",
       "      <td>183418</td>\n",
       "      <td>11</td>\n",
       "      <td>6</td>\n",
       "      <td>13</td>\n",
       "      <td>30.0</td>\n",
       "    </tr>\n",
       "    <tr>\n",
       "      <th>1</th>\n",
       "      <td>1690866</td>\n",
       "      <td>163593</td>\n",
       "      <td>5</td>\n",
       "      <td>5</td>\n",
       "      <td>12</td>\n",
       "      <td>9.0</td>\n",
       "    </tr>\n",
       "    <tr>\n",
       "      <th>2</th>\n",
       "      <td>1454967</td>\n",
       "      <td>39980</td>\n",
       "      <td>4</td>\n",
       "      <td>5</td>\n",
       "      <td>19</td>\n",
       "      <td>2.0</td>\n",
       "    </tr>\n",
       "    <tr>\n",
       "      <th>3</th>\n",
       "      <td>1768857</td>\n",
       "      <td>82516</td>\n",
       "      <td>56</td>\n",
       "      <td>0</td>\n",
       "      <td>20</td>\n",
       "      <td>10.0</td>\n",
       "    </tr>\n",
       "    <tr>\n",
       "      <th>4</th>\n",
       "      <td>3007858</td>\n",
       "      <td>196724</td>\n",
       "      <td>2</td>\n",
       "      <td>4</td>\n",
       "      <td>12</td>\n",
       "      <td>17.0</td>\n",
       "    </tr>\n",
       "  </tbody>\n",
       "</table>\n",
       "</div>"
      ],
      "text/plain": [
       "   order_id  user_id  order_number  order_dow  order_hour_of_day  \\\n",
       "0   1515936   183418            11          6                 13   \n",
       "1   1690866   163593             5          5                 12   \n",
       "2   1454967    39980             4          5                 19   \n",
       "3   1768857    82516            56          0                 20   \n",
       "4   3007858   196724             2          4                 12   \n",
       "\n",
       "   days_since_prior_order  \n",
       "0                    30.0  \n",
       "1                     9.0  \n",
       "2                     2.0  \n",
       "3                    10.0  \n",
       "4                    17.0  "
      ]
     },
     "metadata": {},
     "output_type": "display_data"
    },
    {
     "name": "stdout",
     "output_type": "stream",
     "text": [
      "<class 'pandas.core.frame.DataFrame'>\n",
      "RangeIndex: 478967 entries, 0 to 478966\n",
      "Data columns (total 6 columns):\n",
      " #   Column                  Non-Null Count   Dtype  \n",
      "---  ------                  --------------   -----  \n",
      " 0   order_id                478967 non-null  int64  \n",
      " 1   user_id                 478967 non-null  int64  \n",
      " 2   order_number            478967 non-null  int64  \n",
      " 3   order_dow               478967 non-null  int64  \n",
      " 4   order_hour_of_day       478967 non-null  int64  \n",
      " 5   days_since_prior_order  450148 non-null  float64\n",
      "dtypes: float64(1), int64(5)\n",
      "memory usage: 21.9 MB\n",
      "None\n",
      "The DataFrame has 478967 rows and 6 columns\n"
     ]
    }
   ],
   "source": [
    "import pandas as pd\n",
    "column_names=[\n",
    "    'order_id',\n",
    "    'user_id',\n",
    "    'order_number',\n",
    "    'order_dow',\n",
    "    'order_hour_of_day',\n",
    "    'days_since_prior_order'\n",
    "]\n",
    "\n",
    "instacart_orders =pd.read_csv('C:/Users/annak/Desktop/clean/instacart_orders.csv',\n",
    "                  sep=';',\n",
    "                 decimal='.'\n",
    "                 )\n",
    "n_rows,n_cols=instacart_orders.shape\n",
    "display(instacart_orders.head())\n",
    "print(instacart_orders.info())\n",
    "print(f\"The DataFrame has {n_rows} rows and {n_cols} columns\") "
   ]
  },
  {
   "cell_type": "markdown",
   "id": "4b9b5397",
   "metadata": {},
   "source": [
    "<div style=\"background-color: lightyellow; padding: 10px;\">\n",
    "With this code, I upload the data, specify the separator, and specify the decimal separator for a more readable and understandable look.\n",
    "Printed the first few rows of the DataFrame. This helps quickly inspect the data to ensure it was loaded correctly.\n",
    "Printed the summary information about the DataFrame using. I will do the same with all the data files I am going to work with.</div>"
   ]
  },
  {
   "cell_type": "code",
   "execution_count": 2,
   "id": "8ecb9729",
   "metadata": {},
   "outputs": [
    {
     "data": {
      "text/html": [
       "<div>\n",
       "<style scoped>\n",
       "    .dataframe tbody tr th:only-of-type {\n",
       "        vertical-align: middle;\n",
       "    }\n",
       "\n",
       "    .dataframe tbody tr th {\n",
       "        vertical-align: top;\n",
       "    }\n",
       "\n",
       "    .dataframe thead th {\n",
       "        text-align: right;\n",
       "    }\n",
       "</style>\n",
       "<table border=\"1\" class=\"dataframe\">\n",
       "  <thead>\n",
       "    <tr style=\"text-align: right;\">\n",
       "      <th></th>\n",
       "      <th>product_id</th>\n",
       "      <th>product_name</th>\n",
       "      <th>aisle_id</th>\n",
       "      <th>department_id</th>\n",
       "    </tr>\n",
       "  </thead>\n",
       "  <tbody>\n",
       "    <tr>\n",
       "      <th>0</th>\n",
       "      <td>1</td>\n",
       "      <td>Chocolate Sandwich Cookies</td>\n",
       "      <td>61</td>\n",
       "      <td>19</td>\n",
       "    </tr>\n",
       "    <tr>\n",
       "      <th>1</th>\n",
       "      <td>2</td>\n",
       "      <td>All-Seasons Salt</td>\n",
       "      <td>104</td>\n",
       "      <td>13</td>\n",
       "    </tr>\n",
       "    <tr>\n",
       "      <th>2</th>\n",
       "      <td>3</td>\n",
       "      <td>Robust Golden Unsweetened Oolong Tea</td>\n",
       "      <td>94</td>\n",
       "      <td>7</td>\n",
       "    </tr>\n",
       "    <tr>\n",
       "      <th>3</th>\n",
       "      <td>4</td>\n",
       "      <td>Smart Ones Classic Favorites Mini Rigatoni Wit...</td>\n",
       "      <td>38</td>\n",
       "      <td>1</td>\n",
       "    </tr>\n",
       "    <tr>\n",
       "      <th>4</th>\n",
       "      <td>5</td>\n",
       "      <td>Green Chile Anytime Sauce</td>\n",
       "      <td>5</td>\n",
       "      <td>13</td>\n",
       "    </tr>\n",
       "  </tbody>\n",
       "</table>\n",
       "</div>"
      ],
      "text/plain": [
       "   product_id                                       product_name  aisle_id  \\\n",
       "0           1                         Chocolate Sandwich Cookies        61   \n",
       "1           2                                   All-Seasons Salt       104   \n",
       "2           3               Robust Golden Unsweetened Oolong Tea        94   \n",
       "3           4  Smart Ones Classic Favorites Mini Rigatoni Wit...        38   \n",
       "4           5                          Green Chile Anytime Sauce         5   \n",
       "\n",
       "   department_id  \n",
       "0             19  \n",
       "1             13  \n",
       "2              7  \n",
       "3              1  \n",
       "4             13  "
      ]
     },
     "metadata": {},
     "output_type": "display_data"
    },
    {
     "name": "stdout",
     "output_type": "stream",
     "text": [
      "<class 'pandas.core.frame.DataFrame'>\n",
      "RangeIndex: 49694 entries, 0 to 49693\n",
      "Data columns (total 4 columns):\n",
      " #   Column         Non-Null Count  Dtype \n",
      "---  ------         --------------  ----- \n",
      " 0   product_id     49694 non-null  int64 \n",
      " 1   product_name   48436 non-null  object\n",
      " 2   aisle_id       49694 non-null  int64 \n",
      " 3   department_id  49694 non-null  int64 \n",
      "dtypes: int64(3), object(1)\n",
      "memory usage: 1.5+ MB\n",
      "None\n",
      "The DataFrame has 49694 rows and 4 columns\n"
     ]
    }
   ],
   "source": [
    "import pandas as pd\n",
    "products =pd.read_csv('C:/Users/annak/Desktop/clean/products.csv',\n",
    "                 sep=';',\n",
    "                 decimal='.')\n",
    "\n",
    "n_rows,n_cols=products.shape\n",
    "display(products.head())\n",
    "print(products.info())\n",
    "print(f\"The DataFrame has {n_rows} rows and {n_cols} columns\") "
   ]
  },
  {
   "cell_type": "code",
   "execution_count": 3,
   "id": "b31e45ab",
   "metadata": {},
   "outputs": [
    {
     "name": "stdout",
     "output_type": "stream",
     "text": [
      "   aisle_id                       aisle\n",
      "0         1       prepared soups salads\n",
      "1         2           specialty cheeses\n",
      "2         3         energy granola bars\n",
      "3         4               instant foods\n",
      "4         5  marinades meat preparation\n",
      "<class 'pandas.core.frame.DataFrame'>\n",
      "RangeIndex: 134 entries, 0 to 133\n",
      "Data columns (total 2 columns):\n",
      " #   Column    Non-Null Count  Dtype \n",
      "---  ------    --------------  ----- \n",
      " 0   aisle_id  134 non-null    int64 \n",
      " 1   aisle     134 non-null    object\n",
      "dtypes: int64(1), object(1)\n",
      "memory usage: 2.2+ KB\n",
      "None\n",
      "The DataFrame has 134 rows and 2 columns\n"
     ]
    }
   ],
   "source": [
    "import pandas as pd\n",
    "aisles =pd.read_csv('C:/Users/annak/Desktop/clean/aisles.csv',\n",
    "                 sep=';',\n",
    "                 decimal='.')\n",
    "\n",
    "n_rows,n_cols=aisles.shape\n",
    "print(aisles.head())\n",
    "print(aisles.info())\n",
    "print(f\"The DataFrame has {n_rows} rows and {n_cols} columns\") "
   ]
  },
  {
   "cell_type": "code",
   "execution_count": 4,
   "id": "57a10ee2",
   "metadata": {},
   "outputs": [
    {
     "name": "stdout",
     "output_type": "stream",
     "text": [
      "   department_id department\n",
      "0              1     frozen\n",
      "1              2      other\n",
      "2              3     bakery\n",
      "3              4    produce\n",
      "4              5    alcohol\n",
      "<class 'pandas.core.frame.DataFrame'>\n",
      "RangeIndex: 21 entries, 0 to 20\n",
      "Data columns (total 2 columns):\n",
      " #   Column         Non-Null Count  Dtype \n",
      "---  ------         --------------  ----- \n",
      " 0   department_id  21 non-null     int64 \n",
      " 1   department     21 non-null     object\n",
      "dtypes: int64(1), object(1)\n",
      "memory usage: 468.0+ bytes\n",
      "None\n",
      "The DataFrame has 21 rows and 2 columns\n"
     ]
    }
   ],
   "source": [
    "import pandas as pd\n",
    "departments =pd.read_csv('C:/Users/annak/Desktop/clean/departments.csv',\n",
    "                 sep=';',\n",
    "                 decimal='.')\n",
    "\n",
    "n_rows,n_cols=departments.shape\n",
    "print(departments.head())\n",
    "print(departments.info())\n",
    "print(f\"The DataFrame has {n_rows} rows and {n_cols} columns\") "
   ]
  },
  {
   "cell_type": "code",
   "execution_count": 5,
   "id": "ef17d8f0",
   "metadata": {},
   "outputs": [
    {
     "name": "stdout",
     "output_type": "stream",
     "text": [
      "   order_id  product_id  add_to_cart_order  reordered\n",
      "0   2141543       11440               17.0          0\n",
      "1    567889        1560                1.0          1\n",
      "2   2261212       26683                1.0          1\n",
      "3    491251        8670               35.0          1\n",
      "4   2571142        1940                5.0          1\n",
      "<class 'pandas.core.frame.DataFrame'>\n",
      "RangeIndex: 4545007 entries, 0 to 4545006\n",
      "Data columns (total 4 columns):\n",
      " #   Column             Dtype  \n",
      "---  ------             -----  \n",
      " 0   order_id           int64  \n",
      " 1   product_id         int64  \n",
      " 2   add_to_cart_order  float64\n",
      " 3   reordered          int64  \n",
      "dtypes: float64(1), int64(3)\n",
      "memory usage: 138.7 MB\n",
      "None\n",
      "The DataFrame has 4545007 rows and 4 columns\n"
     ]
    }
   ],
   "source": [
    "import pandas as pd\n",
    "order_products =pd.read_csv('C:/Users/annak/Desktop/clean/order_products.csv',\n",
    "                 sep=';',\n",
    "                 decimal='.')\n",
    "n_rows,n_cols=order_products.shape\n",
    "print(order_products.head())\n",
    "print(order_products.info())\n",
    "print(f\"The DataFrame has {n_rows} rows and {n_cols} columns\") "
   ]
  },
  {
   "cell_type": "markdown",
   "id": "a7a9254f",
   "metadata": {},
   "source": [
    "### STEP 2"
   ]
  },
  {
   "cell_type": "code",
   "execution_count": 6,
   "id": "81284f12",
   "metadata": {},
   "outputs": [
    {
     "name": "stdout",
     "output_type": "stream",
     "text": [
      "order_id                      0\n",
      "user_id                       0\n",
      "order_number                  0\n",
      "order_dow                     0\n",
      "order_hour_of_day             0\n",
      "days_since_prior_order    28819\n",
      "dtype: int64\n",
      "15\n",
      "Columns with duplicate data: ['order_id', 'user_id', 'order_number', 'order_dow', 'order_hour_of_day', 'days_since_prior_order']\n",
      "0         False\n",
      "1         False\n",
      "2         False\n",
      "3         False\n",
      "4         False\n",
      "          ...  \n",
      "478962    False\n",
      "478963    False\n",
      "478964    False\n",
      "478965    False\n",
      "478966    False\n",
      "Length: 478967, dtype: bool\n"
     ]
    },
    {
     "data": {
      "text/html": [
       "<div>\n",
       "<style scoped>\n",
       "    .dataframe tbody tr th:only-of-type {\n",
       "        vertical-align: middle;\n",
       "    }\n",
       "\n",
       "    .dataframe tbody tr th {\n",
       "        vertical-align: top;\n",
       "    }\n",
       "\n",
       "    .dataframe thead th {\n",
       "        text-align: right;\n",
       "    }\n",
       "</style>\n",
       "<table border=\"1\" class=\"dataframe\">\n",
       "  <thead>\n",
       "    <tr style=\"text-align: right;\">\n",
       "      <th></th>\n",
       "      <th>order_id</th>\n",
       "      <th>user_id</th>\n",
       "      <th>order_number</th>\n",
       "      <th>order_dow</th>\n",
       "      <th>order_hour_of_day</th>\n",
       "      <th>days_since_prior_order</th>\n",
       "    </tr>\n",
       "  </thead>\n",
       "  <tbody>\n",
       "    <tr>\n",
       "      <th>0</th>\n",
       "      <td>1515936</td>\n",
       "      <td>183418</td>\n",
       "      <td>11</td>\n",
       "      <td>6</td>\n",
       "      <td>13</td>\n",
       "      <td>30.0</td>\n",
       "    </tr>\n",
       "    <tr>\n",
       "      <th>1</th>\n",
       "      <td>1690866</td>\n",
       "      <td>163593</td>\n",
       "      <td>5</td>\n",
       "      <td>5</td>\n",
       "      <td>12</td>\n",
       "      <td>9.0</td>\n",
       "    </tr>\n",
       "    <tr>\n",
       "      <th>2</th>\n",
       "      <td>1454967</td>\n",
       "      <td>39980</td>\n",
       "      <td>4</td>\n",
       "      <td>5</td>\n",
       "      <td>19</td>\n",
       "      <td>2.0</td>\n",
       "    </tr>\n",
       "    <tr>\n",
       "      <th>3</th>\n",
       "      <td>1768857</td>\n",
       "      <td>82516</td>\n",
       "      <td>56</td>\n",
       "      <td>0</td>\n",
       "      <td>20</td>\n",
       "      <td>10.0</td>\n",
       "    </tr>\n",
       "    <tr>\n",
       "      <th>4</th>\n",
       "      <td>3007858</td>\n",
       "      <td>196724</td>\n",
       "      <td>2</td>\n",
       "      <td>4</td>\n",
       "      <td>12</td>\n",
       "      <td>17.0</td>\n",
       "    </tr>\n",
       "    <tr>\n",
       "      <th>...</th>\n",
       "      <td>...</td>\n",
       "      <td>...</td>\n",
       "      <td>...</td>\n",
       "      <td>...</td>\n",
       "      <td>...</td>\n",
       "      <td>...</td>\n",
       "    </tr>\n",
       "    <tr>\n",
       "      <th>478962</th>\n",
       "      <td>3210681</td>\n",
       "      <td>5617</td>\n",
       "      <td>5</td>\n",
       "      <td>1</td>\n",
       "      <td>14</td>\n",
       "      <td>7.0</td>\n",
       "    </tr>\n",
       "    <tr>\n",
       "      <th>478963</th>\n",
       "      <td>3270802</td>\n",
       "      <td>112087</td>\n",
       "      <td>2</td>\n",
       "      <td>3</td>\n",
       "      <td>13</td>\n",
       "      <td>6.0</td>\n",
       "    </tr>\n",
       "    <tr>\n",
       "      <th>478964</th>\n",
       "      <td>885349</td>\n",
       "      <td>82944</td>\n",
       "      <td>16</td>\n",
       "      <td>2</td>\n",
       "      <td>11</td>\n",
       "      <td>6.0</td>\n",
       "    </tr>\n",
       "    <tr>\n",
       "      <th>478965</th>\n",
       "      <td>216274</td>\n",
       "      <td>4391</td>\n",
       "      <td>3</td>\n",
       "      <td>3</td>\n",
       "      <td>8</td>\n",
       "      <td>8.0</td>\n",
       "    </tr>\n",
       "    <tr>\n",
       "      <th>478966</th>\n",
       "      <td>2071924</td>\n",
       "      <td>1730</td>\n",
       "      <td>18</td>\n",
       "      <td>1</td>\n",
       "      <td>14</td>\n",
       "      <td>15.0</td>\n",
       "    </tr>\n",
       "  </tbody>\n",
       "</table>\n",
       "<p>478952 rows × 6 columns</p>\n",
       "</div>"
      ],
      "text/plain": [
       "        order_id  user_id  order_number  order_dow  order_hour_of_day  \\\n",
       "0        1515936   183418            11          6                 13   \n",
       "1        1690866   163593             5          5                 12   \n",
       "2        1454967    39980             4          5                 19   \n",
       "3        1768857    82516            56          0                 20   \n",
       "4        3007858   196724             2          4                 12   \n",
       "...          ...      ...           ...        ...                ...   \n",
       "478962   3210681     5617             5          1                 14   \n",
       "478963   3270802   112087             2          3                 13   \n",
       "478964    885349    82944            16          2                 11   \n",
       "478965    216274     4391             3          3                  8   \n",
       "478966   2071924     1730            18          1                 14   \n",
       "\n",
       "        days_since_prior_order  \n",
       "0                         30.0  \n",
       "1                          9.0  \n",
       "2                          2.0  \n",
       "3                         10.0  \n",
       "4                         17.0  \n",
       "...                        ...  \n",
       "478962                     7.0  \n",
       "478963                     6.0  \n",
       "478964                     6.0  \n",
       "478965                     8.0  \n",
       "478966                    15.0  \n",
       "\n",
       "[478952 rows x 6 columns]"
      ]
     },
     "metadata": {},
     "output_type": "display_data"
    }
   ],
   "source": [
    "\n",
    "duplicate_rows = instacart_orders.duplicated()\n",
    "\n",
    "columns_with_duplicates = instacart_orders.loc[duplicate_rows].any()\n",
    "\n",
    "columns_names_with_duplicates = columns_with_duplicates[columns_with_duplicates].index.tolist()\n",
    "\n",
    "\n",
    "print(instacart_orders.isna().sum())\n",
    "print(instacart_orders.duplicated().sum())\n",
    "print(\"Columns with duplicate data:\", columns_names_with_duplicates)\n",
    "print(instacart_orders.duplicated())\n",
    "display(instacart_orders.drop_duplicates())\n"
   ]
  },
  {
   "cell_type": "markdown",
   "id": "6134fab4",
   "metadata": {},
   "source": [
    "<div style=\"background-color: lightyellow; padding: 10px;\">\n",
    "This code identifies and fills in missing values in the data and I will do the same for each data file.\n",
    "We can see that column 'days_since_prior_order' contains 28819 missing data and 15 duplicated data. I printed the columns names with duplicated data, and used dropduplicate to address the data.\n",
    "<div>"
   ]
  },
  {
   "cell_type": "code",
   "execution_count": 7,
   "id": "5c90f5a1",
   "metadata": {},
   "outputs": [
    {
     "name": "stdout",
     "output_type": "stream",
     "text": [
      "Mean days since prior order 11.101750979677794\n",
      "order_id                  0\n",
      "user_id                   0\n",
      "order_number              0\n",
      "order_dow                 0\n",
      "order_hour_of_day         0\n",
      "days_since_prior_order    0\n",
      "dtype: int64\n"
     ]
    }
   ],
   "source": [
    "\n",
    "days_since_prior_order_avg=instacart_orders['days_since_prior_order'].mean()\n",
    "\n",
    "print(\"Mean days since prior order\",days_since_prior_order_avg)\n",
    "\n",
    "instacart_orders['days_since_prior_order']=instacart_orders['days_since_prior_order'].fillna(days_since_prior_order_avg)\n",
    "\n",
    "\n",
    "print(instacart_orders.isna().sum())"
   ]
  },
  {
   "cell_type": "markdown",
   "id": "f4fbe5fa",
   "metadata": {},
   "source": [
    "<div style=\"background-color: lightyellow; padding: 10px;\">\n",
    "\n",
    "In the column 'days since prior order', I calculated the mean data and filled in all the missing values.\n",
    "<div>"
   ]
  },
  {
   "cell_type": "code",
   "execution_count": 8,
   "id": "87a1e493",
   "metadata": {},
   "outputs": [
    {
     "name": "stdout",
     "output_type": "stream",
     "text": [
      "product_id          0\n",
      "product_name     1258\n",
      "aisle_id            0\n",
      "department_id       0\n",
      "dtype: int64\n",
      "0\n",
      "Columns with duplicate data: []\n"
     ]
    }
   ],
   "source": [
    "\n",
    "duplicate_rows = products.duplicated()\n",
    "\n",
    "columns_with_duplicates = products.loc[duplicate_rows].any()\n",
    "\n",
    "columns_names_with_duplicates = columns_with_duplicates[columns_with_duplicates].index.tolist()\n",
    "\n",
    "\n",
    "print(products.isna().sum())\n",
    "print(products.duplicated().sum())\n",
    "print(\"Columns with duplicate data:\", columns_names_with_duplicates)\n"
   ]
  },
  {
   "cell_type": "markdown",
   "id": "579c32e3",
   "metadata": {},
   "source": [
    "<div style=\"background-color: lightyellow; padding: 10px;\">\n",
    "We can see that column 'product_name' contains missing data.The data does not contain any duplicates\n",
    "<div>"
   ]
  },
  {
   "cell_type": "code",
   "execution_count": 9,
   "id": "615b4f51",
   "metadata": {},
   "outputs": [
    {
     "name": "stdout",
     "output_type": "stream",
     "text": [
      "\n",
      "<class 'pandas.core.frame.DataFrame'>\n",
      "Index: 48436 entries, 0 to 49693\n",
      "Data columns (total 4 columns):\n",
      " #   Column         Non-Null Count  Dtype \n",
      "---  ------         --------------  ----- \n",
      " 0   product_id     48436 non-null  int64 \n",
      " 1   product_name   48436 non-null  object\n",
      " 2   aisle_id       48436 non-null  int64 \n",
      " 3   department_id  48436 non-null  int64 \n",
      "dtypes: int64(3), object(1)\n",
      "memory usage: 1.8+ MB\n"
     ]
    }
   ],
   "source": [
    "\n",
    "products = products.dropna()\n",
    "\n",
    "print()\n",
    "products.info()\n"
   ]
  },
  {
   "cell_type": "markdown",
   "id": "e20248ad",
   "metadata": {},
   "source": [
    "<div style=\"background-color: lightyellow; padding: 10px;\">\n",
    "I converted the missing values to empty strings.\n",
    "<div>"
   ]
  },
  {
   "cell_type": "code",
   "execution_count": 10,
   "id": "e153fc3e",
   "metadata": {},
   "outputs": [
    {
     "name": "stdout",
     "output_type": "stream",
     "text": [
      "aisle_id    0\n",
      "aisle       0\n",
      "dtype: int64\n",
      "0\n",
      "Columns with duplicate data: []\n"
     ]
    }
   ],
   "source": [
    "\n",
    "duplicate_rows = aisles.duplicated()\n",
    "\n",
    "columns_with_duplicates = aisles.loc[duplicate_rows].any()\n",
    "\n",
    "columns_names_with_duplicates = columns_with_duplicates[columns_with_duplicates].index.tolist()\n",
    "\n",
    "print(aisles.isna().sum())\n",
    "print(aisles.duplicated().sum())\n",
    "print(\"Columns with duplicate data:\", columns_names_with_duplicates)\n"
   ]
  },
  {
   "cell_type": "markdown",
   "id": "fc2af8d1",
   "metadata": {},
   "source": [
    "<div style=\"background-color: lightyellow; padding: 10px;\">\n",
    "There are no missing data, as we can see.The data does not contain any duplicates\n",
    "<div>"
   ]
  },
  {
   "cell_type": "code",
   "execution_count": 11,
   "id": "49573b06",
   "metadata": {},
   "outputs": [
    {
     "name": "stdout",
     "output_type": "stream",
     "text": [
      "department_id    0\n",
      "department       0\n",
      "dtype: int64\n",
      "0\n",
      "Columns with duplicate data: []\n"
     ]
    }
   ],
   "source": [
    "\n",
    "duplicate_rows = departments.duplicated()\n",
    "\n",
    "columns_with_duplicates = departments.loc[duplicate_rows].any()\n",
    "\n",
    "columns_names_with_duplicates = columns_with_duplicates[columns_with_duplicates].index.tolist()\n",
    "\n",
    "print(departments.isna().sum())\n",
    "print(departments.duplicated().sum())\n",
    "print(\"Columns with duplicate data:\", columns_names_with_duplicates)\n"
   ]
  },
  {
   "cell_type": "markdown",
   "id": "e27a8c11",
   "metadata": {},
   "source": [
    "<div style=\"background-color: lightyellow; padding: 10px;\">\n",
    "There are no missing data, as we can see.The data does not contain any duplicates\n",
    "<div>"
   ]
  },
  {
   "cell_type": "code",
   "execution_count": 12,
   "id": "e0c8d02f",
   "metadata": {},
   "outputs": [
    {
     "name": "stdout",
     "output_type": "stream",
     "text": [
      "order_id               0\n",
      "product_id             0\n",
      "add_to_cart_order    836\n",
      "reordered              0\n",
      "dtype: int64\n",
      "0\n",
      "Columns with duplicate data: []\n"
     ]
    }
   ],
   "source": [
    "\n",
    "duplicate_rows = order_products.duplicated()\n",
    "\n",
    "columns_with_duplicates = order_products.loc[duplicate_rows].any()\n",
    "\n",
    "columns_names_with_duplicates = columns_with_duplicates[columns_with_duplicates].index.tolist()\n",
    "\n",
    "\n",
    "print(order_products.isna().sum())\n",
    "print(order_products.duplicated().sum())\n",
    "print(\"Columns with duplicate data:\", columns_names_with_duplicates)\n"
   ]
  },
  {
   "cell_type": "markdown",
   "id": "fd189aaf",
   "metadata": {},
   "source": [
    "<div style=\"background-color: lightyellow; padding: 10px;\">\n",
    "We can see that column 'add_to_cart_order' contains missing data. The data does not contain any duplicates.\n",
    "<div>"
   ]
  },
  {
   "cell_type": "code",
   "execution_count": 13,
   "id": "7bbc2322",
   "metadata": {},
   "outputs": [
    {
     "name": "stdout",
     "output_type": "stream",
     "text": [
      "Mean add to cart order 8.351669424412066\n",
      "order_id             0\n",
      "product_id           0\n",
      "add_to_cart_order    0\n",
      "reordered            0\n",
      "dtype: int64\n"
     ]
    }
   ],
   "source": [
    "\n",
    "\n",
    "add_to_cart_order_avg=order_products['add_to_cart_order'].mean()\n",
    "\n",
    "print(\"Mean add to cart order\",add_to_cart_order_avg)\n",
    "\n",
    "order_products['add_to_cart_order']=order_products['add_to_cart_order'].fillna(add_to_cart_order_avg)\n",
    "\n",
    "print(order_products.isna().sum())"
   ]
  },
  {
   "cell_type": "markdown",
   "id": "08822a0f",
   "metadata": {},
   "source": [
    "<div style=\"background-color: lightyellow; padding: 10px;\">\n",
    "In the column 'add_to_cart order', I calculated the mean data and filled in all the missing values.\n",
    "<div>"
   ]
  },
  {
   "cell_type": "markdown",
   "id": "eb317eeb",
   "metadata": {},
   "source": [
    "### STEP 3"
   ]
  },
  {
   "cell_type": "markdown",
   "id": "e70f46e0",
   "metadata": {},
   "source": [
    "### A.1"
   ]
  },
  {
   "cell_type": "code",
   "execution_count": 14,
   "id": "7c6be743",
   "metadata": {},
   "outputs": [
    {
     "name": "stdout",
     "output_type": "stream",
     "text": [
      "0     13\n",
      "1     12\n",
      "2     19\n",
      "3     20\n",
      "4     12\n",
      "5     11\n",
      "6      8\n",
      "7     18\n",
      "8     15\n",
      "9      8\n",
      "10    11\n",
      "11    16\n",
      "12    12\n",
      "13     9\n",
      "14    11\n",
      "15     9\n",
      "16    15\n",
      "17    22\n",
      "18    11\n",
      "19    10\n",
      "20     9\n",
      "21     9\n",
      "22    15\n",
      "23     0\n",
      "Name: order_hour_of_day, dtype: int64\n",
      "0    6\n",
      "1    5\n",
      "2    5\n",
      "3    0\n",
      "4    4\n",
      "5    0\n",
      "6    3\n",
      "Name: order_dow, dtype: int64\n"
     ]
    }
   ],
   "source": [
    "print(instacart_orders.loc[0:23,'order_hour_of_day'])\n",
    "print(instacart_orders.loc[0:6,'order_dow'])"
   ]
  },
  {
   "cell_type": "code",
   "execution_count": 15,
   "id": "99e767da",
   "metadata": {},
   "outputs": [
    {
     "name": "stdout",
     "output_type": "stream",
     "text": [
      "order_hour_of_day: min = 0 , max = 23\n",
      "order_dow: min = 0 , max = 6\n"
     ]
    }
   ],
   "source": [
    "print(\"order_hour_of_day: min =\",instacart_orders['order_hour_of_day'].min(), \", max =\", instacart_orders['order_hour_of_day'].max())\n",
    "print(\"order_dow: min =\", instacart_orders['order_dow'].min(), \", max =\", instacart_orders['order_dow'].max())"
   ]
  },
  {
   "cell_type": "markdown",
   "id": "2e152f37",
   "metadata": {},
   "source": [
    "<div style=\"background-color: lightyellow; padding: 10px;\">\n",
    "To verify that the values in the 'order_hour_of_day' and 'order_dow' columns in the orders table are sensible, \n",
    "you can use basic descriptive statistics to check their minimum and maximum values.\n",
    "<div>"
   ]
  },
  {
   "cell_type": "markdown",
   "id": "f3d97464",
   "metadata": {},
   "source": [
    "### A.2"
   ]
  },
  {
   "cell_type": "code",
   "execution_count": 16,
   "id": "3df04fbd-14b3-487f-b79b-476b99ff8971",
   "metadata": {},
   "outputs": [
    {
     "data": {
      "image/png": "[encoded data removed]",
      "text/plain": [
       "<Figure size 640x480 with 1 Axes>"
      ]
     },
     "metadata": {},
     "output_type": "display_data"
    }
   ],
   "source": [
    "from matplotlib import pyplot as plt\n",
    "import matplotlib as mpl\n",
    "\n",
    "mpl.rcParams['agg.path.chunksize'] = 1000\n",
    "orders_day = instacart_orders['order_hour_of_day'].value_counts().sort_index()\n",
    "\n",
    "orders_day.plot(kind='bar',\n",
    "                title='Number of Orders for Each Hour of the Day',\n",
    "                xlabel='Hour of the Day',\n",
    "                ylabel='Number of Orders',\n",
    "                rot=0\n",
    "                )\n",
    "plt.show()"
   ]
  },
  {
   "cell_type": "markdown",
   "id": "08614d0a",
   "metadata": {},
   "source": [
    "<div style=\"background-color: lightyellow; padding: 10px;\">\n",
    "\n",
    "This bar plot shows how many people place orders during different hours of the day. My preference is to use bar plots because they make the data much simpler and easier to understand.\n",
    "<div>    "
   ]
  },
  {
   "cell_type": "code",
   "execution_count": 17,
   "id": "8bda918b",
   "metadata": {},
   "outputs": [
    {
     "name": "stdout",
     "output_type": "stream",
     "text": [
      "order_hour_of_day\n",
      "0      3180\n",
      "1      1763\n",
      "2      1004\n",
      "3       770\n",
      "4       765\n",
      "5      1371\n",
      "6      4215\n",
      "7     13043\n",
      "8     25024\n",
      "9     35896\n",
      "10    40578\n",
      "11    40032\n",
      "12    38034\n",
      "13    39007\n",
      "14    39631\n",
      "15    39789\n",
      "16    38112\n",
      "17    31930\n",
      "18    25510\n",
      "19    19547\n",
      "20    14624\n",
      "21    11019\n",
      "22     8512\n",
      "23     5611\n",
      "Name: count, dtype: int64\n"
     ]
    }
   ],
   "source": [
    "print(orders_day.head(24))"
   ]
  },
  {
   "cell_type": "markdown",
   "id": "13b58ae3",
   "metadata": {},
   "source": [
    "<div style=\"background-color: lightyellow; padding: 10px;\">\n",
    "here you can see the exact number of orders for every hour.\n",
    "<div>"
   ]
  },
  {
   "cell_type": "markdown",
   "id": "b0d5287c",
   "metadata": {},
   "source": [
    "### A.3"
   ]
  },
  {
   "cell_type": "code",
   "execution_count": 18,
   "id": "7ad97752",
   "metadata": {},
   "outputs": [
    {
     "data": {
      "image/png": "[encoded data removed]",
      "text/plain": [
       "<Figure size 1000x500 with 1 Axes>"
      ]
     },
     "metadata": {},
     "output_type": "display_data"
    }
   ],
   "source": [
    "day_counts = instacart_orders[instacart_orders['order_dow'] != 0]['order_dow']\n",
    "\n",
    "plt.figure(figsize=(10, 5))\n",
    "\n",
    "plt.hist(day_counts, bins=range(1, 8), color='skyblue', edgecolor='black', alpha=0.7)\n",
    "\n",
    "plt.title('Distribution of Orders by Day of the Week')\n",
    "plt.xlabel('Day of the Week')\n",
    "\n",
    "plt.ylabel('Number of Orders')\n",
    "\n",
    "plt.xticks(range(1, 8), ['Monday', 'Tuesday', 'Wednesday', 'Thursday', 'Friday', 'Saturday', 'Sunday'], rotation=45)\n",
    "\n",
    "plt.grid(axis='y', linestyle='--', alpha=0.7)\n",
    "\n",
    "plt.show()"
   ]
  },
  {
   "cell_type": "markdown",
   "id": "ae91d1f6",
   "metadata": {},
   "source": [
    "<div style=\"background-color: lightyellow; padding: 10px;\">\n",
    "Using matplotlib's hist() function, I visualize the distribution of orders across days of the week.\n",
    "I decided to use plt,because there are more fine-grained control over the plot and its components and make other modifications with greater flexibility.\n",
    "<div>"
   ]
  },
  {
   "cell_type": "markdown",
   "id": "828c762c",
   "metadata": {},
   "source": [
    "### A.4"
   ]
  },
  {
   "cell_type": "code",
   "execution_count": 19,
   "id": "edfc71c1",
   "metadata": {},
   "outputs": [
    {
     "data": {
      "image/png": "[encoded data removed]",
      "text/plain": [
       "<Figure size 1000x600 with 1 Axes>"
      ]
     },
     "metadata": {},
     "output_type": "display_data"
    },
    {
     "name": "stdout",
     "output_type": "stream",
     "text": [
      "Minimum days since prior order: 0.0\n",
      "Maximum days since prior order: 30.0\n"
     ]
    }
   ],
   "source": [
    "cleaned_data = instacart_orders.dropna(subset=['days_since_prior_order'])\n",
    "\n",
    "days_counts = cleaned_data['days_since_prior_order'].value_counts().sort_index()\n",
    "\n",
    "plt.figure(figsize=(10, 6))\n",
    "\n",
    "plt.plot(days_counts.index, days_counts.values, marker='o', color='darkblue', linestyle='-')\n",
    "\n",
    "plt.title('Distribution of Days Since Prior Order')\n",
    "\n",
    "plt.xlabel('Days Since Prior Order')\n",
    "\n",
    "plt.ylabel('Frequency')\n",
    "\n",
    "plt.grid(axis='y', linestyle='--')\n",
    "\n",
    "plt.xlim(left=0)\n",
    "\n",
    "\n",
    "min_days = cleaned_data['days_since_prior_order'].min()\n",
    "max_days = cleaned_data['days_since_prior_order'].max()\n",
    "        \n",
    "plt.show()\n",
    "\n",
    "print(\"Minimum days since prior order:\", min_days)\n",
    "print(\"Maximum days since prior order:\", max_days)\n"
   ]
  },
  {
   "cell_type": "markdown",
   "id": "5559505f",
   "metadata": {},
   "source": [
    "<div style=\"background-color: lightyellow; padding: 10px;\">\n",
    "I first calculate the frequency of each number of days since prior order.\n",
    "Then, used plt.plot() to create a line chart where the x-axis represents the number of days since prior order and the y-axis represents the frequency of orders.\n",
    "The marker='o' parameter adds markers to the data points for better visualization.\n",
    "The minimum and maximum values in the \"days_since_prior_order\" column, providing information about the shortest and longest gaps between consecutive orders.\n",
    "<div>"
   ]
  },
  {
   "cell_type": "markdown",
   "id": "2453d385",
   "metadata": {},
   "source": [
    "### B.1"
   ]
  },
  {
   "cell_type": "code",
   "execution_count": 20,
   "id": "ce97a1be",
   "metadata": {},
   "outputs": [
    {
     "data": {
      "image/png": "[encoded data removed]",
      "text/plain": [
       "<Figure size 1000x600 with 1 Axes>"
      ]
     },
     "metadata": {},
     "output_type": "display_data"
    }
   ],
   "source": [
    "wednesday_data = instacart_orders[instacart_orders['order_dow'] == 3]  \n",
    "saturday_data = instacart_orders[instacart_orders['order_dow'] == 6]  \n",
    "\n",
    "plt.figure(figsize=(10, 6))\n",
    "\n",
    "plt.hist(wednesday_data['order_hour_of_day'], bins=24, color='darkblue', alpha=0.6, label='Wednesday', density=True)\n",
    "\n",
    "plt.hist(saturday_data['order_hour_of_day'], bins=24, color='green', alpha=0.5, label='Saturday', density=True)\n",
    "\n",
    "plt.title('Distribution of Order Hour of Day on Wednesday vs Saturday')\n",
    "\n",
    "plt.xlabel('Hour of the Day')\n",
    "\n",
    "plt.ylabel('Frequency (normalized)')\n",
    "\n",
    "plt.legend()\n",
    "\n",
    "plt.grid(axis='y', linestyle='--', alpha=0.7)\n",
    "\n",
    "plt.xticks(range(24))\n",
    "\n",
    "plt.xlim(left=0)\n",
    "\n",
    "plt.show()"
   ]
  },
  {
   "cell_type": "markdown",
   "id": "e3d3c5a4",
   "metadata": {},
   "source": [
    "<div style=\"background-color: lightyellow; padding: 10px;\">\n",
    "In this code:\n",
    "I filter the data for Wednesdays and Saturdays.I created two histograms, one for Wednesday and one for Saturday, using plt.hist().\n",
    "I plot both histograms on the same plot.\n",
    "The x-axis ticks are set to show the hour of the day from 0 to 23.Frequency indicates how many orders are placed every hour of the day, expressed as a percentage.\n",
    "<div>"
   ]
  },
  {
   "cell_type": "markdown",
   "id": "677a1d8c",
   "metadata": {},
   "source": [
    "<div style=\"background-color: lightyellow; padding: 10px;\">\n",
    "A histogram shows that there is no significant difference between hours and days of orders. Over 85% of orders were placed on Wednesday between 15:00 and 16:00 o'clock based on the graph.\n",
    "Over 85% of orders were placed on Saturday between 14:00 and 15:00 o'clock based.\n",
    "This graph shows that the highest number of orders are between 12:00 and 15:00 o'clock on Saturday, whereas on Wednesday, orders are decreasing.       \n",
    "<div>        "
   ]
  },
  {
   "cell_type": "markdown",
   "id": "c959bf93",
   "metadata": {},
   "source": [
    "### B.2"
   ]
  },
  {
   "cell_type": "code",
   "execution_count": 21,
   "id": "ca53856c",
   "metadata": {},
   "outputs": [
    {
     "data": {
      "image/png": "[encoded data removed]",
      "text/plain": [
       "<Figure size 700x500 with 1 Axes>"
      ]
     },
     "metadata": {},
     "output_type": "display_data"
    }
   ],
   "source": [
    "order_counts = instacart_orders['user_id'].value_counts()\n",
    "\n",
    "order_count_distribution = order_counts.value_counts().sort_index()\n",
    "\n",
    "plt.figure(figsize=(7, 5))\n",
    "\n",
    "plt.bar(order_count_distribution.index, order_count_distribution.values, color='blue', alpha=0.9)\n",
    "\n",
    "plt.title('Distribution of Number of Orders per Customer')\n",
    "\n",
    "plt.xlabel('Number of Orders')\n",
    "\n",
    "plt.ylabel('Number of Customers')\n",
    "\n",
    "plt.grid(axis='y', linestyle='--', alpha=0.7)\n",
    "\n",
    "plt.xlim(left=(0,25))\n",
    "plt.show()\n"
   ]
  },
  {
   "cell_type": "markdown",
   "id": "e5381489",
   "metadata": {},
   "source": [
    "<div style=\"background-color: lightyellow; padding: 10px;\">\n",
    "The resulting bar plot provides insights into the distribution of the number of orders placed by customers.\n",
    "It helps understand how many customers placed a certain number of orders.\n",
    "the choice of a bar plot for visualizing, because it effectively represents the discrete nature of the data and provides a clear representation of the frequency of each count.\n",
    "<div>"
   ]
  },
  {
   "cell_type": "code",
   "execution_count": 22,
   "id": "41403757",
   "metadata": {},
   "outputs": [
    {
     "name": "stdout",
     "output_type": "stream",
     "text": [
      "count\n",
      "1     55355\n",
      "2     36508\n",
      "3     21548\n",
      "4     13498\n",
      "5      8778\n",
      "6      6012\n",
      "7      4240\n",
      "8      3016\n",
      "9      2153\n",
      "10     1646\n",
      "11     1308\n",
      "12      948\n",
      "13      701\n",
      "14      514\n",
      "15      437\n",
      "16      263\n",
      "17      184\n",
      "18      121\n",
      "19       85\n",
      "20       52\n",
      "21       22\n",
      "22       23\n",
      "23       19\n",
      "24        3\n",
      "25        1\n",
      "26        1\n",
      "28        1\n",
      "Name: count, dtype: int64\n"
     ]
    }
   ],
   "source": [
    "print(order_count_distribution)"
   ]
  },
  {
   "cell_type": "markdown",
   "id": "6215f1d3",
   "metadata": {},
   "source": [
    "### B.3"
   ]
  },
  {
   "cell_type": "code",
   "execution_count": 23,
   "id": "e2ee7a8d",
   "metadata": {},
   "outputs": [
    {
     "data": {
      "text/html": [
       "<div>\n",
       "<style scoped>\n",
       "    .dataframe tbody tr th:only-of-type {\n",
       "        vertical-align: middle;\n",
       "    }\n",
       "\n",
       "    .dataframe tbody tr th {\n",
       "        vertical-align: top;\n",
       "    }\n",
       "\n",
       "    .dataframe thead th {\n",
       "        text-align: right;\n",
       "    }\n",
       "</style>\n",
       "<table border=\"1\" class=\"dataframe\">\n",
       "  <thead>\n",
       "    <tr style=\"text-align: right;\">\n",
       "      <th></th>\n",
       "      <th>product_name</th>\n",
       "      <th>frequency</th>\n",
       "    </tr>\n",
       "  </thead>\n",
       "  <tbody>\n",
       "    <tr>\n",
       "      <th>0</th>\n",
       "      <td>Banana</td>\n",
       "      <td>66050</td>\n",
       "    </tr>\n",
       "    <tr>\n",
       "      <th>1</th>\n",
       "      <td>Bag of Organic Bananas</td>\n",
       "      <td>53297</td>\n",
       "    </tr>\n",
       "    <tr>\n",
       "      <th>2</th>\n",
       "      <td>Organic Strawberries</td>\n",
       "      <td>37039</td>\n",
       "    </tr>\n",
       "    <tr>\n",
       "      <th>3</th>\n",
       "      <td>Organic Baby Spinach</td>\n",
       "      <td>33971</td>\n",
       "    </tr>\n",
       "    <tr>\n",
       "      <th>4</th>\n",
       "      <td>Organic Hass Avocado</td>\n",
       "      <td>29773</td>\n",
       "    </tr>\n",
       "    <tr>\n",
       "      <th>5</th>\n",
       "      <td>Organic Avocado</td>\n",
       "      <td>24689</td>\n",
       "    </tr>\n",
       "    <tr>\n",
       "      <th>6</th>\n",
       "      <td>Large Lemon</td>\n",
       "      <td>21495</td>\n",
       "    </tr>\n",
       "    <tr>\n",
       "      <th>7</th>\n",
       "      <td>Strawberries</td>\n",
       "      <td>20018</td>\n",
       "    </tr>\n",
       "    <tr>\n",
       "      <th>8</th>\n",
       "      <td>Limes</td>\n",
       "      <td>19690</td>\n",
       "    </tr>\n",
       "    <tr>\n",
       "      <th>9</th>\n",
       "      <td>Organic Whole Milk</td>\n",
       "      <td>19600</td>\n",
       "    </tr>\n",
       "    <tr>\n",
       "      <th>10</th>\n",
       "      <td>Organic Raspberries</td>\n",
       "      <td>19197</td>\n",
       "    </tr>\n",
       "    <tr>\n",
       "      <th>11</th>\n",
       "      <td>Organic Yellow Onion</td>\n",
       "      <td>15898</td>\n",
       "    </tr>\n",
       "    <tr>\n",
       "      <th>12</th>\n",
       "      <td>Organic Garlic</td>\n",
       "      <td>15292</td>\n",
       "    </tr>\n",
       "    <tr>\n",
       "      <th>13</th>\n",
       "      <td>Organic Zucchini</td>\n",
       "      <td>14584</td>\n",
       "    </tr>\n",
       "    <tr>\n",
       "      <th>14</th>\n",
       "      <td>Organic Blueberries</td>\n",
       "      <td>13879</td>\n",
       "    </tr>\n",
       "    <tr>\n",
       "      <th>15</th>\n",
       "      <td>Cucumber Kirby</td>\n",
       "      <td>13675</td>\n",
       "    </tr>\n",
       "    <tr>\n",
       "      <th>16</th>\n",
       "      <td>Organic Fuji Apple</td>\n",
       "      <td>12544</td>\n",
       "    </tr>\n",
       "    <tr>\n",
       "      <th>17</th>\n",
       "      <td>Organic Lemon</td>\n",
       "      <td>12232</td>\n",
       "    </tr>\n",
       "    <tr>\n",
       "      <th>18</th>\n",
       "      <td>Apple Honeycrisp Organic</td>\n",
       "      <td>11993</td>\n",
       "    </tr>\n",
       "    <tr>\n",
       "      <th>19</th>\n",
       "      <td>Organic Grape Tomatoes</td>\n",
       "      <td>11781</td>\n",
       "    </tr>\n",
       "  </tbody>\n",
       "</table>\n",
       "</div>"
      ],
      "text/plain": [
       "                product_name  frequency\n",
       "0                     Banana      66050\n",
       "1     Bag of Organic Bananas      53297\n",
       "2       Organic Strawberries      37039\n",
       "3       Organic Baby Spinach      33971\n",
       "4       Organic Hass Avocado      29773\n",
       "5            Organic Avocado      24689\n",
       "6                Large Lemon      21495\n",
       "7               Strawberries      20018\n",
       "8                      Limes      19690\n",
       "9         Organic Whole Milk      19600\n",
       "10       Organic Raspberries      19197\n",
       "11      Organic Yellow Onion      15898\n",
       "12            Organic Garlic      15292\n",
       "13          Organic Zucchini      14584\n",
       "14       Organic Blueberries      13879\n",
       "15            Cucumber Kirby      13675\n",
       "16        Organic Fuji Apple      12544\n",
       "17             Organic Lemon      12232\n",
       "18  Apple Honeycrisp Organic      11993\n",
       "19    Organic Grape Tomatoes      11781"
      ]
     },
     "metadata": {},
     "output_type": "display_data"
    }
   ],
   "source": [
    "merged_data = pd.merge(order_products, products, on='product_id')\n",
    "\n",
    "product_frequency = merged_data['product_name'].value_counts().reset_index()\n",
    "product_frequency.columns = ['product_name', 'frequency']\n",
    "\n",
    "top_products = product_frequency.head(20)\n",
    "\n",
    "display(top_products[['product_name', 'frequency']])"
   ]
  },
  {
   "cell_type": "markdown",
   "id": "17fca0b8",
   "metadata": {},
   "source": [
    "<div style=\"background-color: lightyellow; padding: 10px;\">\n",
    "I combined the data from both DataFrames 'order_products' and 'products' based on matching product ids.\n",
    "The value_counts() function on the 'product_name' column count how many times each product appears in the DataFrame.\n",
    "I renamed the columns to 'product_name' and 'frequency'.\n",
    "<div>"
   ]
  },
  {
   "cell_type": "markdown",
   "id": "32bb434c",
   "metadata": {},
   "source": [
    "### C.2"
   ]
  },
  {
   "cell_type": "code",
   "execution_count": 24,
   "id": "d004332e",
   "metadata": {},
   "outputs": [
    {
     "data": {
      "text/html": [
       "<div>\n",
       "<style scoped>\n",
       "    .dataframe tbody tr th:only-of-type {\n",
       "        vertical-align: middle;\n",
       "    }\n",
       "\n",
       "    .dataframe tbody tr th {\n",
       "        vertical-align: top;\n",
       "    }\n",
       "\n",
       "    .dataframe thead th {\n",
       "        text-align: right;\n",
       "    }\n",
       "</style>\n",
       "<table border=\"1\" class=\"dataframe\">\n",
       "  <thead>\n",
       "    <tr style=\"text-align: right;\">\n",
       "      <th></th>\n",
       "      <th>product_id</th>\n",
       "      <th>product_name</th>\n",
       "    </tr>\n",
       "  </thead>\n",
       "  <tbody>\n",
       "    <tr>\n",
       "      <th>0</th>\n",
       "      <td>13421</td>\n",
       "      <td>Advanced Care Plaque Guard Frosted Mint Antipl...</td>\n",
       "    </tr>\n",
       "    <tr>\n",
       "      <th>1</th>\n",
       "      <td>44412</td>\n",
       "      <td>Seafood Magic Seasoning Blends</td>\n",
       "    </tr>\n",
       "    <tr>\n",
       "      <th>2</th>\n",
       "      <td>29201</td>\n",
       "      <td>Pretzels Sesame Baked Not Fried</td>\n",
       "    </tr>\n",
       "    <tr>\n",
       "      <th>3</th>\n",
       "      <td>29219</td>\n",
       "      <td>Homestyle Salisbury Steak</td>\n",
       "    </tr>\n",
       "    <tr>\n",
       "      <th>4</th>\n",
       "      <td>44440</td>\n",
       "      <td>Purrfect Delicacies Multi-pack</td>\n",
       "    </tr>\n",
       "    <tr>\n",
       "      <th>5</th>\n",
       "      <td>29247</td>\n",
       "      <td>Lake Shore Blend Medium Roast Coffee</td>\n",
       "    </tr>\n",
       "    <tr>\n",
       "      <th>6</th>\n",
       "      <td>44434</td>\n",
       "      <td>Juice Squeeze Wild Berry</td>\n",
       "    </tr>\n",
       "    <tr>\n",
       "      <th>7</th>\n",
       "      <td>44429</td>\n",
       "      <td>Riesling Blue Qba</td>\n",
       "    </tr>\n",
       "    <tr>\n",
       "      <th>8</th>\n",
       "      <td>29321</td>\n",
       "      <td>Toffee Crunch Milk Chocolate Bar</td>\n",
       "    </tr>\n",
       "    <tr>\n",
       "      <th>9</th>\n",
       "      <td>30236</td>\n",
       "      <td>Organic Carob Soymilk</td>\n",
       "    </tr>\n",
       "    <tr>\n",
       "      <th>10</th>\n",
       "      <td>29331</td>\n",
       "      <td>Candy Bar- Milk Chocolate- Coconut</td>\n",
       "    </tr>\n",
       "    <tr>\n",
       "      <th>11</th>\n",
       "      <td>44409</td>\n",
       "      <td>Twisted Berry Fruit &amp; Veggie Juice</td>\n",
       "    </tr>\n",
       "    <tr>\n",
       "      <th>12</th>\n",
       "      <td>29367</td>\n",
       "      <td>Yogurt- Coconut Non-Dairy- Low Fat- Vanilla</td>\n",
       "    </tr>\n",
       "    <tr>\n",
       "      <th>13</th>\n",
       "      <td>7378</td>\n",
       "      <td>Soothing Diaper Cream</td>\n",
       "    </tr>\n",
       "    <tr>\n",
       "      <th>14</th>\n",
       "      <td>7375</td>\n",
       "      <td>Cheddar Cheese Mashed Potatoes</td>\n",
       "    </tr>\n",
       "    <tr>\n",
       "      <th>15</th>\n",
       "      <td>29417</td>\n",
       "      <td>Dark Chocolate Hazelnut Truffle Pig Bar</td>\n",
       "    </tr>\n",
       "    <tr>\n",
       "      <th>16</th>\n",
       "      <td>29194</td>\n",
       "      <td>Go Take A Hike! Energy Snack</td>\n",
       "    </tr>\n",
       "    <tr>\n",
       "      <th>17</th>\n",
       "      <td>29188</td>\n",
       "      <td>Kilo Daily Fragrance</td>\n",
       "    </tr>\n",
       "    <tr>\n",
       "      <th>18</th>\n",
       "      <td>29168</td>\n",
       "      <td>Beef Chuck Short Ribs</td>\n",
       "    </tr>\n",
       "    <tr>\n",
       "      <th>19</th>\n",
       "      <td>44458</td>\n",
       "      <td>Beach Babe Texturizing Sea Salt Spray</td>\n",
       "    </tr>\n",
       "  </tbody>\n",
       "</table>\n",
       "</div>"
      ],
      "text/plain": [
       "    product_id                                       product_name\n",
       "0        13421  Advanced Care Plaque Guard Frosted Mint Antipl...\n",
       "1        44412                     Seafood Magic Seasoning Blends\n",
       "2        29201                    Pretzels Sesame Baked Not Fried\n",
       "3        29219                          Homestyle Salisbury Steak\n",
       "4        44440                     Purrfect Delicacies Multi-pack\n",
       "5        29247               Lake Shore Blend Medium Roast Coffee\n",
       "6        44434                           Juice Squeeze Wild Berry\n",
       "7        44429                                  Riesling Blue Qba\n",
       "8        29321                   Toffee Crunch Milk Chocolate Bar\n",
       "9        30236                              Organic Carob Soymilk\n",
       "10       29331                 Candy Bar- Milk Chocolate- Coconut\n",
       "11       44409                 Twisted Berry Fruit & Veggie Juice\n",
       "12       29367        Yogurt- Coconut Non-Dairy- Low Fat- Vanilla\n",
       "13        7378                              Soothing Diaper Cream\n",
       "14        7375                     Cheddar Cheese Mashed Potatoes\n",
       "15       29417            Dark Chocolate Hazelnut Truffle Pig Bar\n",
       "16       29194                       Go Take A Hike! Energy Snack\n",
       "17       29188                               Kilo Daily Fragrance\n",
       "18       29168                              Beef Chuck Short Ribs\n",
       "19       44458              Beach Babe Texturizing Sea Salt Spray"
      ]
     },
     "metadata": {},
     "output_type": "display_data"
    }
   ],
   "source": [
    "merged_data = pd.merge(order_products, products, on='product_id')\n",
    "\n",
    "reorder_frequency = merged_data.groupby(['product_id', 'product_name'])['reordered'].mean().sort_values(ascending=False)\n",
    "\n",
    "top_reorder_items = reorder_frequency.head(20)\n",
    "\n",
    "display(top_reorder_items.reset_index()[['product_id', 'product_name']])"
   ]
  },
  {
   "cell_type": "markdown",
   "id": "fbe79578",
   "metadata": {},
   "source": [
    "<div style=\"background-color: lightyellow; padding: 10px;\">\n",
    "The outcome of the code is to identify and display the top 20 products with the highest reorder frequency, along with their product IDs and names.\n",
    "This information can be valuable for understanding customer behavior and preferences.\n",
    "<div>"
   ]
  },
  {
   "cell_type": "markdown",
   "id": "3b546397",
   "metadata": {},
   "source": [
    "### C.5"
   ]
  },
  {
   "cell_type": "code",
   "execution_count": 25,
   "id": "4a8b6f35",
   "metadata": {},
   "outputs": [
    {
     "data": {
      "text/html": [
       "<div>\n",
       "<style scoped>\n",
       "    .dataframe tbody tr th:only-of-type {\n",
       "        vertical-align: middle;\n",
       "    }\n",
       "\n",
       "    .dataframe tbody tr th {\n",
       "        vertical-align: top;\n",
       "    }\n",
       "\n",
       "    .dataframe thead th {\n",
       "        text-align: right;\n",
       "    }\n",
       "</style>\n",
       "<table border=\"1\" class=\"dataframe\">\n",
       "  <thead>\n",
       "    <tr style=\"text-align: right;\">\n",
       "      <th></th>\n",
       "      <th>product_id</th>\n",
       "      <th>product_name</th>\n",
       "      <th>count</th>\n",
       "    </tr>\n",
       "  </thead>\n",
       "  <tbody>\n",
       "    <tr>\n",
       "      <th>13280</th>\n",
       "      <td>24852</td>\n",
       "      <td>Banana</td>\n",
       "      <td>15562</td>\n",
       "    </tr>\n",
       "    <tr>\n",
       "      <th>7051</th>\n",
       "      <td>13176</td>\n",
       "      <td>Bag of Organic Bananas</td>\n",
       "      <td>11026</td>\n",
       "    </tr>\n",
       "    <tr>\n",
       "      <th>14881</th>\n",
       "      <td>27845</td>\n",
       "      <td>Organic Whole Milk</td>\n",
       "      <td>4363</td>\n",
       "    </tr>\n",
       "    <tr>\n",
       "      <th>11266</th>\n",
       "      <td>21137</td>\n",
       "      <td>Organic Strawberries</td>\n",
       "      <td>3946</td>\n",
       "    </tr>\n",
       "    <tr>\n",
       "      <th>25195</th>\n",
       "      <td>47209</td>\n",
       "      <td>Organic Hass Avocado</td>\n",
       "      <td>3390</td>\n",
       "    </tr>\n",
       "    <tr>\n",
       "      <th>11665</th>\n",
       "      <td>21903</td>\n",
       "      <td>Organic Baby Spinach</td>\n",
       "      <td>3336</td>\n",
       "    </tr>\n",
       "    <tr>\n",
       "      <th>25485</th>\n",
       "      <td>47766</td>\n",
       "      <td>Organic Avocado</td>\n",
       "      <td>3044</td>\n",
       "    </tr>\n",
       "    <tr>\n",
       "      <th>10507</th>\n",
       "      <td>19660</td>\n",
       "      <td>Spring Water</td>\n",
       "      <td>2336</td>\n",
       "    </tr>\n",
       "    <tr>\n",
       "      <th>8955</th>\n",
       "      <td>16797</td>\n",
       "      <td>Strawberries</td>\n",
       "      <td>2308</td>\n",
       "    </tr>\n",
       "    <tr>\n",
       "      <th>14955</th>\n",
       "      <td>27966</td>\n",
       "      <td>Organic Raspberries</td>\n",
       "      <td>2024</td>\n",
       "    </tr>\n",
       "    <tr>\n",
       "      <th>23793</th>\n",
       "      <td>44632</td>\n",
       "      <td>Sparkling Water Grapefruit</td>\n",
       "      <td>1914</td>\n",
       "    </tr>\n",
       "    <tr>\n",
       "      <th>26264</th>\n",
       "      <td>49235</td>\n",
       "      <td>Organic Half &amp; Half</td>\n",
       "      <td>1797</td>\n",
       "    </tr>\n",
       "    <tr>\n",
       "      <th>25411</th>\n",
       "      <td>47626</td>\n",
       "      <td>Large Lemon</td>\n",
       "      <td>1737</td>\n",
       "    </tr>\n",
       "    <tr>\n",
       "      <th>115</th>\n",
       "      <td>196</td>\n",
       "      <td>Soda</td>\n",
       "      <td>1733</td>\n",
       "    </tr>\n",
       "    <tr>\n",
       "      <th>20658</th>\n",
       "      <td>38689</td>\n",
       "      <td>Organic Reduced Fat Milk</td>\n",
       "      <td>1397</td>\n",
       "    </tr>\n",
       "    <tr>\n",
       "      <th>14016</th>\n",
       "      <td>26209</td>\n",
       "      <td>Limes</td>\n",
       "      <td>1370</td>\n",
       "    </tr>\n",
       "    <tr>\n",
       "      <th>6588</th>\n",
       "      <td>12341</td>\n",
       "      <td>Hass Avocados</td>\n",
       "      <td>1340</td>\n",
       "    </tr>\n",
       "    <tr>\n",
       "      <th>3123</th>\n",
       "      <td>5785</td>\n",
       "      <td>Organic Reduced Fat 2% Milk</td>\n",
       "      <td>1310</td>\n",
       "    </tr>\n",
       "    <tr>\n",
       "      <th>14495</th>\n",
       "      <td>27086</td>\n",
       "      <td>Half &amp; Half</td>\n",
       "      <td>1309</td>\n",
       "    </tr>\n",
       "    <tr>\n",
       "      <th>12223</th>\n",
       "      <td>22935</td>\n",
       "      <td>Organic Yellow Onion</td>\n",
       "      <td>1246</td>\n",
       "    </tr>\n",
       "  </tbody>\n",
       "</table>\n",
       "</div>"
      ],
      "text/plain": [
       "       product_id                 product_name  count\n",
       "13280       24852                       Banana  15562\n",
       "7051        13176       Bag of Organic Bananas  11026\n",
       "14881       27845           Organic Whole Milk   4363\n",
       "11266       21137         Organic Strawberries   3946\n",
       "25195       47209         Organic Hass Avocado   3390\n",
       "11665       21903         Organic Baby Spinach   3336\n",
       "25485       47766              Organic Avocado   3044\n",
       "10507       19660                 Spring Water   2336\n",
       "8955        16797                 Strawberries   2308\n",
       "14955       27966          Organic Raspberries   2024\n",
       "23793       44632   Sparkling Water Grapefruit   1914\n",
       "26264       49235          Organic Half & Half   1797\n",
       "25411       47626                  Large Lemon   1737\n",
       "115           196                         Soda   1733\n",
       "20658       38689     Organic Reduced Fat Milk   1397\n",
       "14016       26209                        Limes   1370\n",
       "6588        12341                Hass Avocados   1340\n",
       "3123         5785  Organic Reduced Fat 2% Milk   1310\n",
       "14495       27086                  Half & Half   1309\n",
       "12223       22935         Organic Yellow Onion   1246"
      ]
     },
     "metadata": {},
     "output_type": "display_data"
    }
   ],
   "source": [
    "merged_data = pd.merge(order_products, products, on='product_id')\n",
    "\n",
    "first_item_count = merged_data[merged_data['add_to_cart_order'] == 1].groupby(['product_id', 'product_name']).size().reset_index(name='count')\n",
    "\n",
    "top_first_items = first_item_count.nlargest(20, 'count')\n",
    "\n",
    "display(top_first_items[['product_id', 'product_name', 'count']])"
   ]
  },
  {
   "cell_type": "markdown",
   "id": "3b738909",
   "metadata": {},
   "source": [
    "<div style=\"background-color: lightyellow; padding: 10px;\">\n",
    "The outcome of the code is to identify and display the top 20 products that are most frequently added first to the cart,\n",
    "along with their product IDs, names, and counts.\n",
    "This information can be useful for understanding customer preferences and behavior during the shopping process.\n",
    "<div>"
   ]
  },
  {
   "cell_type": "code",
   "execution_count": null,
   "id": "ed863c54",
   "metadata": {},
   "outputs": [],
   "source": []
  }
 ],
 "metadata": {
  "kernelspec": {
   "display_name": "Python 3 (ipykernel)",
   "language": "python",
   "name": "python3"
  },
  "language_info": {
   "codemirror_mode": {
    "name": "ipython",
    "version": 3
   },
   "file_extension": ".py",
   "mimetype": "text/x-python",
   "name": "python",
   "nbconvert_exporter": "python",
   "pygments_lexer": "ipython3",
   "version": "3.11.5"
  }
 },
 "nbformat": 4,
 "nbformat_minor": 5
}
